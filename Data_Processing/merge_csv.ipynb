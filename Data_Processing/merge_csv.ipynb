{
 "cells": [
  {
   "cell_type": "code",
   "execution_count": 1,
   "metadata": {},
   "outputs": [],
   "source": [
    "import pandas as pd\n",
    "import numpy as np\n",
    "from sklearn.model_selection import train_test_split"
   ]
  },
  {
   "cell_type": "code",
   "execution_count": 2,
   "metadata": {},
   "outputs": [],
   "source": [
    "file_1 = pd.read_csv(\"MovieReviews_Objective.csv\")\n",
    "file_2 = pd.read_csv(\"MovieReviews_Subjective.csv\")\n",
    "file_3 = pd.read_csv(\"Sports_Objective.csv\")\n",
    "file_4 = pd.read_csv(\"Sports_Subjective.csv\")\n",
    "file_5 = pd.read_csv(\"TechPapers_Objective.csv\")"
   ]
  },
  {
   "cell_type": "code",
   "execution_count": 3,
   "metadata": {},
   "outputs": [
    {
     "name": "stdout",
     "output_type": "stream",
     "text": [
      "(9218, 2)\n"
     ]
    }
   ],
   "source": [
    "obj_frames = [file_1['Sentence'], file_3['Sentence'], file_5['Sentence']]\n",
    "objective = pd.DataFrame(pd.concat(obj_frames))\n",
    "objective['label'] = 0\n",
    "print(objective.shape)"
   ]
  },
  {
   "cell_type": "code",
   "execution_count": 4,
   "metadata": {},
   "outputs": [
    {
     "name": "stdout",
     "output_type": "stream",
     "text": [
      "(7692, 2)\n"
     ]
    }
   ],
   "source": [
    "subj_frames = [file_2['Sentence'], file_4['Sentence']]\n",
    "subjective = pd.DataFrame(pd.concat(subj_frames))\n",
    "subjective['label'] = 1\n",
    "print(subjective.shape)"
   ]
  },
  {
   "cell_type": "code",
   "execution_count": 5,
   "metadata": {},
   "outputs": [
    {
     "name": "stdout",
     "output_type": "stream",
     "text": [
      "======== OBJECTIVE SPLIT =========\n",
      "Train :  (7374, 2)\n",
      "Test :  (1844, 2)\n"
     ]
    }
   ],
   "source": [
    "print(\"======== OBJECTIVE SPLIT =========\")\n",
    "obj_train, obj_test = train_test_split(np.array(objective), test_size=0.20, random_state=200)\n",
    "print(\"Train : \",obj_train.shape)\n",
    "print(\"Test : \",obj_test.shape)"
   ]
  },
  {
   "cell_type": "code",
   "execution_count": 6,
   "metadata": {},
   "outputs": [
    {
     "name": "stdout",
     "output_type": "stream",
     "text": [
      "======== SUBJECTIVE SPLIT =========\n",
      "Train :  (6153, 2)\n",
      "Test:  (1539, 2)\n"
     ]
    }
   ],
   "source": [
    "print(\"======== SUBJECTIVE SPLIT =========\")\n",
    "subj_train, subj_test = train_test_split(np.array(subjective), test_size=0.20, random_state=4356)\n",
    "print(\"Train : \", subj_train.shape)\n",
    "print(\"Test: \", subj_test.shape)"
   ]
  },
  {
   "cell_type": "code",
   "execution_count": 7,
   "metadata": {},
   "outputs": [
    {
     "name": "stdout",
     "output_type": "stream",
     "text": [
      "======= FINAL SPLITS ========\n",
      "Total Train :  (13527, 2)\n",
      "Total Test :  (3383, 2)\n"
     ]
    }
   ],
   "source": [
    "print(\"======= FINAL SPLITS ========\")\n",
    "total_train = np.concatenate((obj_train, subj_train))\n",
    "total_test = np.concatenate((obj_test, subj_test))\n",
    "np.random.shuffle(total_train)\n",
    "np.random.shuffle(total_test)\n",
    "print(\"Total Train : \", total_train.shape)\n",
    "print(\"Total Test : \", total_test.shape)"
   ]
  },
  {
   "cell_type": "code",
   "execution_count": 8,
   "metadata": {},
   "outputs": [],
   "source": [
    "train_df = pd.DataFrame(total_train, columns=['sentence', 'label'])\n",
    "test_df = pd.DataFrame(total_test, columns=['sentence', 'label'])\n",
    "train_df.to_csv('train_sentences.csv', index=False)\n",
    "test_df.to_csv('test_sentences.csv', index=False)"
   ]
  }
 ],
 "metadata": {
  "kernelspec": {
   "display_name": "Python 3",
   "language": "python",
   "name": "python3"
  },
  "language_info": {
   "codemirror_mode": {
    "name": "ipython",
    "version": 3
   },
   "file_extension": ".py",
   "mimetype": "text/x-python",
   "name": "python",
   "nbconvert_exporter": "python",
   "pygments_lexer": "ipython3",
   "version": "3.6.9"
  }
 },
 "nbformat": 4,
 "nbformat_minor": 2
}
