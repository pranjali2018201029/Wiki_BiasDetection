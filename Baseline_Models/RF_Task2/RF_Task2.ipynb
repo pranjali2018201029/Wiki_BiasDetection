{
 "cells": [
  {
   "cell_type": "code",
   "execution_count": 1,
   "metadata": {},
   "outputs": [],
   "source": [
    "import pandas as pd\n",
    "import numpy as np\n",
    "from sklearn.ensemble import RandomForestRegressor\n",
    "from sklearn.datasets import make_regression\n",
    "from sklearn.metrics import classification_report,confusion_matrix"
   ]
  },
  {
   "cell_type": "code",
   "execution_count": 2,
   "metadata": {},
   "outputs": [],
   "source": [
    "def read_data(path):\n",
    "    data=pd.read_csv(path)\n",
    "    return data"
   ]
  },
  {
   "cell_type": "code",
   "execution_count": 3,
   "metadata": {},
   "outputs": [],
   "source": [
    "def train():\n",
    "    train_data=read_data(Folder_Path + \"Wiki_LiguisticFeatures_Train.csv\")\n",
    "    train_X = train_data[train_data.columns[2:28]]\n",
    "    train_Y = train_data[train_data.columns[28:]]\n",
    "    clf = RandomForestRegressor(n_estimators = 100, random_state = 0)\n",
    "    clf.fit(train_X, train_Y) \n",
    "    return clf"
   ]
  },
  {
   "cell_type": "code",
   "execution_count": 4,
   "metadata": {},
   "outputs": [],
   "source": [
    "def test(clf):\n",
    "    test_data=read_data(Folder_Path + \"Wiki_LiguisticFeatures_Test.csv\")\n",
    "    test_X = test_data[test_data.columns[2:28]]\n",
    "    test_Y = test_data[test_data.columns[28:]]\n",
    "#     clf=train()\n",
    "    y_pred=clf.predict(test_X)\n",
    "    test_list=test_Y['Label'].values.tolist()\n",
    "    \n",
    "    print(y_pred)\n",
    "    true_subj=0\n",
    "    true_obj=0\n",
    "    false_subj=0\n",
    "    false_obj=0\n",
    "    for i in range(len(y_pred)):\n",
    "        if y_pred[i]>=0.5:\n",
    "            y_pred[i]=1\n",
    "            if test_list[i]==1:\n",
    "                true_subj+=1\n",
    "            else:\n",
    "                false_subj+=1\n",
    "        else:\n",
    "            y_pred[i]=0\n",
    "            if test_list[i]==0:\n",
    "                true_obj+=1\n",
    "            else:\n",
    "                false_obj+=1\n",
    "    accuracy=(np.float((true_subj+true_obj))/np.float((true_subj+true_obj+false_subj+false_obj)))*100\n",
    "    print(\"Accuracy:\",accuracy)\n",
    "    conf_mat=confusion_matrix(test_Y,y_pred)\n",
    "    print(conf_mat)\n",
    "    print(classification_report(test_Y, y_pred, labels=[0,1]))"
   ]
  },
  {
   "cell_type": "code",
   "execution_count": 5,
   "metadata": {},
   "outputs": [],
   "source": [
    "def Store_Trained_Model(Model_obj, Filepath):\n",
    "  \n",
    "    with open(Filepath, \"wb\") as file_obj:\n",
    "        pickle.dump(Model_obj, file_obj)"
   ]
  },
  {
   "cell_type": "code",
   "execution_count": 6,
   "metadata": {},
   "outputs": [
    {
     "name": "stderr",
     "output_type": "stream",
     "text": [
      "/Library/Frameworks/Python.framework/Versions/3.7/lib/python3.7/site-packages/ipykernel_launcher.py:6: DataConversionWarning: A column-vector y was passed when a 1d array was expected. Please change the shape of y to (n_samples,), for example using ravel().\n",
      "  \n"
     ]
    }
   ],
   "source": [
    "Folder_Path = \"/Users/pranjali/Downloads/Wiki_BiasDetection/Data/Task2_FinalData/\"\n",
    "Model_obj = train()\n"
   ]
  },
  {
   "cell_type": "code",
   "execution_count": 7,
   "metadata": {},
   "outputs": [
    {
     "name": "stdout",
     "output_type": "stream",
     "text": [
      "[0.01956577 0.         0.11030291 ... 0.24636469 0.08435007 0.10416136]\n",
      "Accuracy: 84.60938437537501\n",
      "[[167456   1640]\n",
      " [ 29140   1756]]\n",
      "              precision    recall  f1-score   support\n",
      "\n",
      "           0       0.85      0.99      0.92    169096\n",
      "           1       0.52      0.06      0.10     30896\n",
      "\n",
      "   micro avg       0.85      0.85      0.85    199992\n",
      "   macro avg       0.68      0.52      0.51    199992\n",
      "weighted avg       0.80      0.85      0.79    199992\n",
      "\n"
     ]
    }
   ],
   "source": [
    "test(Model_obj)"
   ]
  },
  {
   "cell_type": "code",
   "execution_count": 8,
   "metadata": {},
   "outputs": [],
   "source": [
    "import pickle\n",
    "Store_Trained_Model(Model_obj, \"/Users/pranjali/Downloads/Wiki_BiasDetection/Saved_Models/RF/RF_Task2_Trained_Model.pkl\")\n"
   ]
  },
  {
   "cell_type": "code",
   "execution_count": null,
   "metadata": {},
   "outputs": [],
   "source": []
  }
 ],
 "metadata": {
  "kernelspec": {
   "display_name": "Python 3",
   "language": "python",
   "name": "python3"
  },
  "language_info": {
   "codemirror_mode": {
    "name": "ipython",
    "version": 3
   },
   "file_extension": ".py",
   "mimetype": "text/x-python",
   "name": "python",
   "nbconvert_exporter": "python",
   "pygments_lexer": "ipython3",
   "version": "3.7.0"
  }
 },
 "nbformat": 4,
 "nbformat_minor": 2
}
