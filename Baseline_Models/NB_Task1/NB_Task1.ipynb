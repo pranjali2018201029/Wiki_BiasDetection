{
 "cells": [
  {
   "cell_type": "code",
   "execution_count": 7,
   "metadata": {},
   "outputs": [],
   "source": [
    "import pandas as pd\n",
    "import numpy as np\n",
    "from sklearn.naive_bayes import GaussianNB,MultinomialNB\n",
    "from sklearn import metrics\n",
    "import pickle"
   ]
  },
  {
   "cell_type": "code",
   "execution_count": 3,
   "metadata": {},
   "outputs": [],
   "source": [
    "train = pd.read_csv(\"train_emb.csv\")\n",
    "test = pd.read_csv(\"test_emb.csv\")"
   ]
  },
  {
   "cell_type": "code",
   "execution_count": 4,
   "metadata": {},
   "outputs": [],
   "source": [
    "def get_embeddings(data):\n",
    "    new_data = []\n",
    "    for emb in data:\n",
    "        emb = emb.split(',')\n",
    "        emb[0] = emb[0][1:]\n",
    "        emb[99] = emb[99][:-1]\n",
    "        emb = np.array(emb)\n",
    "        emb = emb.astype(np.float)\n",
    "        new_data.append(emb)\n",
    "    return np.array(new_data)"
   ]
  },
  {
   "cell_type": "code",
   "execution_count": 5,
   "metadata": {},
   "outputs": [],
   "source": [
    "x_train = train['embedding']\n",
    "x_train = get_embeddings(x_train)\n",
    "y_train = train['label']\n",
    "x_test = test['embedding']\n",
    "x_test = get_embeddings(x_test)\n",
    "y_test = test['label']"
   ]
  },
  {
   "cell_type": "code",
   "execution_count": 38,
   "metadata": {},
   "outputs": [],
   "source": [
    "def train():\n",
    "    gnb = GaussianNB()\n",
    "    gnb.fit(x_train, y_train)\n",
    "    with open('NB_Task1_TrainedModel.pkl','wb') as f:\n",
    "        pickle.dump(gnb,f)"
   ]
  },
  {
   "cell_type": "code",
   "execution_count": 39,
   "metadata": {},
   "outputs": [],
   "source": [
    "def test():\n",
    "    with open('NB_Task1_TrainedModel.pkl','rb') as f:\n",
    "        gnb = pickle.load(f)\n",
    "    y_pred = gnb.predict(x_test)\n",
    "    print(metrics.classification_report(y_test, y_pred))\n",
    "    print(\"Confusion matrix:\")\n",
    "    print(metrics.confusion_matrix(y_test, y_pred))"
   ]
  },
  {
   "cell_type": "code",
   "execution_count": 40,
   "metadata": {},
   "outputs": [],
   "source": [
    "train()"
   ]
  },
  {
   "cell_type": "code",
   "execution_count": 41,
   "metadata": {},
   "outputs": [
    {
     "name": "stdout",
     "output_type": "stream",
     "text": [
      "              precision    recall  f1-score   support\n",
      "\n",
      "           0       0.46      0.44      0.45     20971\n",
      "           1       0.70      0.71      0.71     37608\n",
      "\n",
      "    accuracy                           0.62     58579\n",
      "   macro avg       0.58      0.58      0.58     58579\n",
      "weighted avg       0.61      0.62      0.61     58579\n",
      "\n",
      "Confusion matrix:\n",
      "[[ 9208 11763]\n",
      " [10723 26885]]\n"
     ]
    }
   ],
   "source": [
    "test()"
   ]
  },
  {
   "cell_type": "code",
   "execution_count": 42,
   "metadata": {},
   "outputs": [],
   "source": [
    "def predict(input_embedding):\n",
    "    embedding = getembeddings(input_embedding)\n",
    "    with open('NB_Task1_TrainedModel.pkl','rb') as f:\n",
    "        gnb = pickle.load(f)\n",
    "    print(\"Sentence class is:  \",gnb.predict(embedding))"
   ]
  }
 ],
 "metadata": {
  "kernelspec": {
   "display_name": "Python 3",
   "language": "python",
   "name": "python3"
  },
  "language_info": {
   "codemirror_mode": {
    "name": "ipython",
    "version": 3
   },
   "file_extension": ".py",
   "mimetype": "text/x-python",
   "name": "python",
   "nbconvert_exporter": "python",
   "pygments_lexer": "ipython3",
   "version": "3.7.4"
  }
 },
 "nbformat": 4,
 "nbformat_minor": 2
}
