{
 "cells": [
  {
   "cell_type": "code",
   "execution_count": 1,
   "metadata": {},
   "outputs": [],
   "source": [
    "import pandas as pd\n",
    "import numpy as np\n",
    "from sklearn.naive_bayes import GaussianNB,MultinomialNB\n",
    "from sklearn import metrics\n",
    "import pickle"
   ]
  },
  {
   "cell_type": "code",
   "execution_count": 26,
   "metadata": {},
   "outputs": [],
   "source": [
    "train = pd.read_csv(\"Wiki_LiguisticFeatures_Train.csv\")\n",
    "train = train.drop(['Unnamed: 0'],axis = 1)\n",
    "test = pd.read_csv(\"Wiki_LiguisticFeatures_Test.csv\")\n",
    "test = test.drop(['Unnamed: 0'],axis = 1)"
   ]
  },
  {
   "cell_type": "code",
   "execution_count": 27,
   "metadata": {},
   "outputs": [],
   "source": [
    "x_train = train.drop(columns=['Label','word'])\n",
    "# Features dependent on context are removed\n",
    "# x_train = train[['POS','Hedge','Factive','Assertive','Implicative','Report','Entailment',\n",
    "#                'StrongSub','WeakSub','Polarity','Positive','Negative','Bias_Lexicon']]\n",
    "y_train = train['Label']\n",
    "x_test = test.drop(columns=['Label','word'])\n",
    "# x_test = test[['POS','Hedge','Factive','Assertive','Implicative','Report','Entailment',\n",
    "#                'StrongSub','WeakSub','Polarity','Positive','Negative','Bias_Lexicon']]\n",
    "y_test = test['Label']"
   ]
  },
  {
   "cell_type": "code",
   "execution_count": 28,
   "metadata": {},
   "outputs": [],
   "source": [
    "def train():\n",
    "    gnb = GaussianNB()\n",
    "    gnb.fit(x_train, y_train)\n",
    "    with open('NB_Task2_TrainedModel.pkl','wb') as f:\n",
    "        pickle.dump(gnb,f)"
   ]
  },
  {
   "cell_type": "code",
   "execution_count": 29,
   "metadata": {},
   "outputs": [],
   "source": [
    "def test():\n",
    "    with open('NB_Task2_TrainedModel.pkl','rb') as f:\n",
    "        gnb = pickle.load(f)\n",
    "    y_pred = gnb.predict(x_test)\n",
    "    print(metrics.classification_report(y_test, y_pred))\n",
    "    print(\"Confusion matrix:\")\n",
    "    print(metrics.confusion_matrix(y_test, y_pred))"
   ]
  },
  {
   "cell_type": "code",
   "execution_count": 30,
   "metadata": {},
   "outputs": [],
   "source": [
    "train()"
   ]
  },
  {
   "cell_type": "code",
   "execution_count": 31,
   "metadata": {},
   "outputs": [
    {
     "name": "stdout",
     "output_type": "stream",
     "text": [
      "              precision    recall  f1-score   support\n",
      "\n",
      "           0       0.86      0.96      0.91    169096\n",
      "           1       0.36      0.12      0.18     30896\n",
      "\n",
      "    accuracy                           0.83    199992\n",
      "   macro avg       0.61      0.54      0.54    199992\n",
      "weighted avg       0.78      0.83      0.79    199992\n",
      "\n",
      "Confusion matrix:\n",
      "[[162430   6666]\n",
      " [ 27172   3724]]\n"
     ]
    }
   ],
   "source": [
    "test()"
   ]
  },
  {
   "cell_type": "code",
   "execution_count": 24,
   "metadata": {},
   "outputs": [],
   "source": [
    "def predict(input_sentence):\n",
    "    subjectivity_score = dict()\n",
    "    words = input_sentence['word']\n",
    "    test_features = input_sentence.drop(['word'],axis = 1)\n",
    "    with open('NB_Task2_TrainedModel.pkl','rb') as f:\n",
    "        gnb = pickle.load(f)\n",
    "    probabilities = gnb.predict_proba(test_features)\n",
    "    for i in len(words):\n",
    "        subjectivity_score[words[i]] = probabilities[i][1]\n",
    "    return subjectivity_score"
   ]
  },
  {
   "cell_type": "code",
   "execution_count": null,
   "metadata": {},
   "outputs": [],
   "source": []
  }
 ],
 "metadata": {
  "kernelspec": {
   "display_name": "Python 3",
   "language": "python",
   "name": "python3"
  },
  "language_info": {
   "codemirror_mode": {
    "name": "ipython",
    "version": 3
   },
   "file_extension": ".py",
   "mimetype": "text/x-python",
   "name": "python",
   "nbconvert_exporter": "python",
   "pygments_lexer": "ipython3",
   "version": "3.7.4"
  }
 },
 "nbformat": 4,
 "nbformat_minor": 2
}
