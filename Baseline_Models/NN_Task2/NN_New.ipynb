{
 "cells": [
  {
   "cell_type": "code",
   "execution_count": 41,
   "metadata": {},
   "outputs": [],
   "source": [
    "import tensorflow as tf\n",
    "from tensorflow import keras\n",
    "\n",
    "import os\n",
    "import tempfile\n",
    "\n",
    "import matplotlib as mpl\n",
    "import matplotlib.pyplot as plt\n",
    "import numpy as np\n",
    "import pandas as pd\n",
    "import seaborn as sns\n",
    "\n",
    "import sklearn\n",
    "from sklearn.metrics import confusion_matrix\n",
    "from sklearn.model_selection import train_test_split\n",
    "from sklearn.preprocessing import StandardScaler\n",
    "\n",
    "from keras import metrics"
   ]
  },
  {
   "cell_type": "code",
   "execution_count": 42,
   "metadata": {},
   "outputs": [],
   "source": [
    "mpl.rcParams['figure.figsize'] = (12, 10)\n",
    "colors = plt.rcParams['axes.prop_cycle'].by_key()['color']"
   ]
  },
  {
   "cell_type": "code",
   "execution_count": 45,
   "metadata": {},
   "outputs": [],
   "source": [
    "Column_List = [\"word\"]\n",
    "Label_Col = \"Label\"\n",
    "Vector_Size = 13\n",
    "Feature_Cols = [\"POS\", \"POS_Prev\", \"POS_Next\", \"Hedge\", \"Hedge_Context\", \"Factive\", \"Factive_Context\", \"Assertive\", \"Assertive_Context\",\n",
    "                  \"Implicative\", \"Implicative_Context\", \"Report\", \"Report_Context\", \n",
    "                   \"Entailment\", \"Entailment_Context\", \"StrongSub\", \"StrongSub_Context\", \n",
    "                   \"WeakSub\", \"WeakSub_Context\", \"Polarity\", \"Positive\", \"Positive_Context\", \n",
    "                   \"Negative\", \"Negative_Context\", \"Bias_Lexicon\"]\n",
    "\n",
    "FeatureList = [\"POS\", \"Hedge\", \"Factive\", \"Assertive\", \"Implicative\", \"Report\", \"Entailment\", \"StrongSub\", \n",
    "               \"WeakSub\", \"Polarity\", \"Positive\", \"Negative\", \"Bias_Lexicon\"]\n",
    "Column_List.extend(Feature_Cols)\n",
    "Column_List.append(Label_Col)\n",
    "\n",
    "Folder_Path = \"/Users/pranjali/Downloads/Wiki_BiasDetection/Data/Task2_FinalData/\"\n",
    "\n",
    "Train_Features_FilePath = Folder_Path + \"Wiki_LiguisticFeatures_Train.csv\"\n",
    "Test_Features_FilePath = Folder_Path + \"Wiki_LiguisticFeatures_Test.csv\"\n",
    "NN_Model_FilePath = \"/Users/pranjali/Downloads/Wiki_BiasDetection/Saved_Models/Task2_NN_Trained_Model.pkl\"\n",
    "\n",
    "train_data = pd.read_csv(Train_Features_FilePath, usecols=Column_List)\n",
    "test_data = pd.read_csv(Test_Features_FilePath, usecols=Column_List)"
   ]
  },
  {
   "cell_type": "code",
   "execution_count": 46,
   "metadata": {},
   "outputs": [],
   "source": [
    "train_df, val_df = train_test_split(train_data, test_size=0.2)\n",
    "test_df = test_data"
   ]
  },
  {
   "cell_type": "code",
   "execution_count": 47,
   "metadata": {},
   "outputs": [],
   "source": [
    "# Form np arrays of labels and features.\n",
    "train_labels = np.array(train_df['Label'])\n",
    "bool_train_labels = train_labels != 0\n",
    "val_labels = np.array(val_df['Label'])\n",
    "test_labels = np.array(test_df['Label'])\n",
    "\n",
    "train_features = np.array(train_df[Feature_Cols])\n",
    "val_features = np.array(val_df[Feature_Cols])\n",
    "test_features = np.array(test_df[Feature_Cols])"
   ]
  },
  {
   "cell_type": "code",
   "execution_count": 48,
   "metadata": {},
   "outputs": [
    {
     "name": "stdout",
     "output_type": "stream",
     "text": [
      "Training labels shape: (408373,)\n",
      "Validation labels shape: (102094,)\n",
      "Test labels shape: (199992,)\n",
      "Training features shape: (408373, 25)\n",
      "Validation features shape: (102094, 25)\n",
      "Test features shape: (199992, 25)\n"
     ]
    }
   ],
   "source": [
    "# scaler = StandardScaler()\n",
    "# train_features = scaler.fit_transform(train_features)\n",
    "\n",
    "# val_features = scaler.transform(val_features)\n",
    "# test_features = scaler.transform(test_features)\n",
    "\n",
    "train_features = np.clip(train_features, -5, 5)\n",
    "val_features = np.clip(val_features, -5, 5)\n",
    "test_features = np.clip(test_features, -5, 5)\n",
    "\n",
    "\n",
    "print('Training labels shape:', train_labels.shape)\n",
    "print('Validation labels shape:', val_labels.shape)\n",
    "print('Test labels shape:', test_labels.shape)\n",
    "\n",
    "print('Training features shape:', train_features.shape)\n",
    "print('Validation features shape:', val_features.shape)\n",
    "print('Test features shape:', test_features.shape)\n"
   ]
  },
  {
   "cell_type": "code",
   "execution_count": 50,
   "metadata": {},
   "outputs": [
    {
     "data": {
      "image/png": "[encoded data removed]",
      "text/plain": [
       "<Figure size 432x432 with 3 Axes>"
      ]
     },
     "metadata": {
      "needs_background": "light"
     },
     "output_type": "display_data"
    },
    {
     "data": {
      "image/png": "[encoded data removed]",
      "text/plain": [
       "<Figure size 432x432 with 3 Axes>"
      ]
     },
     "metadata": {
      "needs_background": "light"
     },
     "output_type": "display_data"
    }
   ],
   "source": [
    "pos_df = pd.DataFrame(train_features[ bool_train_labels], columns = Feature_Cols)\n",
    "neg_df = pd.DataFrame(train_features[~bool_train_labels], columns = Feature_Cols)\n",
    "\n",
    "# sns.jointplot(pos_df['POS_Prev'], pos_df['Polarity'],\n",
    "#               kind='hex', xlim = (-5,5), ylim = (-5,5))\n",
    "# plt.suptitle(\"Positive distribution\")\n",
    "\n",
    "# sns.jointplot(neg_df['POS_Prev'], neg_df['Polarity'],\n",
    "#               kind='hex', xlim = (-5,5), ylim = (-5,5))\n",
    "# _ = plt.suptitle(\"Negative distribution\")\n",
    "\n",
    "sns.jointplot(pos_df['StrongSub'], pos_df['Polarity'],\n",
    "              kind='hex')\n",
    "plt.suptitle(\"Positive distribution\")\n",
    "\n",
    "sns.jointplot(neg_df['StrongSub'], neg_df['Polarity'],\n",
    "              kind='hex')\n",
    "_ = plt.suptitle(\"Negative distribution\")"
   ]
  },
  {
   "cell_type": "code",
   "execution_count": 51,
   "metadata": {},
   "outputs": [],
   "source": [
    "# val_auc = metrics.AUC()\n",
    "\n",
    "METRICS = [\n",
    "      keras.metrics.TruePositives(name='tp'),\n",
    "      keras.metrics.FalsePositives(name='fp'),\n",
    "      keras.metrics.TrueNegatives(name='tn'),\n",
    "      keras.metrics.FalseNegatives(name='fn'), \n",
    "      keras.metrics.BinaryAccuracy(name='accuracy'),\n",
    "      keras.metrics.Precision(name='precision'),\n",
    "      keras.metrics.Recall(name='recall'),\n",
    "#       val_auc    \n",
    "]\n",
    "\n",
    "def make_model(metrics = METRICS, output_bias=None):\n",
    "    \n",
    "    if output_bias is not None:\n",
    "        output_bias = tf.keras.initializers.Constant(output_bias)\n",
    "        \n",
    "    model = keras.Sequential([ keras.layers.Dense(16, activation='relu',input_shape=(train_features.shape[-1],)),\n",
    "                              keras.layers.Dropout(0.5), keras.layers.Dense(1, activation='sigmoid',\n",
    "                                                                            bias_initializer=output_bias),])\n",
    "    \n",
    "    model.compile( optimizer=keras.optimizers.Adam(lr=1e-3), loss=keras.losses.BinaryCrossentropy(), metrics=metrics)\n",
    "\n",
    "    return model\n"
   ]
  },
  {
   "cell_type": "code",
   "execution_count": 52,
   "metadata": {},
   "outputs": [],
   "source": [
    "EPOCHS = 100\n",
    "BATCH_SIZE = 2048\n",
    "\n",
    "early_stopping = tf.keras.callbacks.EarlyStopping(\n",
    "    monitor='recall', \n",
    "    verbose=1,\n",
    "    patience=10,\n",
    "    mode='max',\n",
    "    restore_best_weights=True)"
   ]
  },
  {
   "cell_type": "code",
   "execution_count": 53,
   "metadata": {},
   "outputs": [
    {
     "name": "stdout",
     "output_type": "stream",
     "text": [
      "_________________________________________________________________\n",
      "Layer (type)                 Output Shape              Param #   \n",
      "=================================================================\n",
      "dense_14 (Dense)             (None, 16)                416       \n",
      "_________________________________________________________________\n",
      "dropout_7 (Dropout)          (None, 16)                0         \n",
      "_________________________________________________________________\n",
      "dense_15 (Dense)             (None, 1)                 17        \n",
      "=================================================================\n",
      "Total params: 433\n",
      "Trainable params: 433\n",
      "Non-trainable params: 0\n",
      "_________________________________________________________________\n"
     ]
    }
   ],
   "source": [
    "model = make_model()\n",
    "model.summary()"
   ]
  },
  {
   "cell_type": "code",
   "execution_count": 54,
   "metadata": {},
   "outputs": [
    {
     "data": {
      "text/plain": [
       "array([[0.36985433],\n",
       "       [0.36985433],\n",
       "       [0.36985433],\n",
       "       [0.36985433],\n",
       "       [0.36985433],\n",
       "       [0.3051582 ],\n",
       "       [0.36985433],\n",
       "       [0.38037598],\n",
       "       [0.3698543 ],\n",
       "       [0.37944245]], dtype=float32)"
      ]
     },
     "execution_count": 54,
     "metadata": {},
     "output_type": "execute_result"
    }
   ],
   "source": [
    "model.predict(train_features[:10])"
   ]
  },
  {
   "cell_type": "code",
   "execution_count": 55,
   "metadata": {},
   "outputs": [
    {
     "name": "stdout",
     "output_type": "stream",
     "text": [
      "Loss: 0.5214\n"
     ]
    }
   ],
   "source": [
    "results = model.evaluate(train_features, train_labels, batch_size=BATCH_SIZE, verbose=0)\n",
    "print(\"Loss: {:0.4f}\".format(results[0]))"
   ]
  },
  {
   "cell_type": "code",
   "execution_count": 56,
   "metadata": {},
   "outputs": [
    {
     "name": "stdout",
     "output_type": "stream",
     "text": [
      "Examples:\n",
      "    Total: 408373\n",
      "    Positive: 48712 (11.93% of total)\n",
      "\n"
     ]
    },
    {
     "data": {
      "text/plain": [
       "array([-1.99923651])"
      ]
     },
     "execution_count": 56,
     "metadata": {},
     "output_type": "execute_result"
    }
   ],
   "source": [
    "neg, pos = np.bincount(train_df['Label'])\n",
    "total = neg + pos\n",
    "print('Examples:\\n    Total: {}\\n    Positive: {} ({:.2f}% of total)\\n'.format(\n",
    "    total, pos, 100 * pos / total))\n",
    "\n",
    "initial_bias = np.log([pos/neg])\n",
    "initial_bias"
   ]
  },
  {
   "cell_type": "code",
   "execution_count": 57,
   "metadata": {},
   "outputs": [
    {
     "data": {
      "text/plain": [
       "array([[0.21319535],\n",
       "       [0.21319535],\n",
       "       [0.21319535],\n",
       "       [0.21319535],\n",
       "       [0.21319535],\n",
       "       [0.07201546],\n",
       "       [0.21319535],\n",
       "       [0.18915704],\n",
       "       [0.21319531],\n",
       "       [0.13297091]], dtype=float32)"
      ]
     },
     "execution_count": 57,
     "metadata": {},
     "output_type": "execute_result"
    }
   ],
   "source": [
    "model = make_model(output_bias = initial_bias)\n",
    "model.predict(train_features[:10])"
   ]
  },
  {
   "cell_type": "code",
   "execution_count": 58,
   "metadata": {},
   "outputs": [
    {
     "name": "stdout",
     "output_type": "stream",
     "text": [
      "Loss: 0.3915\n"
     ]
    }
   ],
   "source": [
    "results = model.evaluate(train_features, train_labels, batch_size=BATCH_SIZE, verbose=0)\n",
    "print(\"Loss: {:0.4f}\".format(results[0]))"
   ]
  },
  {
   "cell_type": "code",
   "execution_count": 59,
   "metadata": {},
   "outputs": [
    {
     "name": "stdout",
     "output_type": "stream",
     "text": [
      "WARNING:tensorflow:This model was compiled with a Keras optimizer (<tensorflow.python.keras.optimizers.Adam object at 0x12b298780>) but is being saved in TensorFlow format with `save_weights`. The model's weights will be saved, but unlike with TensorFlow optimizers in the TensorFlow format the optimizer's state will not be saved.\n",
      "\n",
      "Consider using a TensorFlow optimizer from `tf.train`.\n"
     ]
    }
   ],
   "source": [
    "initial_weights = os.path.join(tempfile.mkdtemp(),'initial_weights')\n",
    "model.save_weights(initial_weights)"
   ]
  },
  {
   "cell_type": "code",
   "execution_count": 60,
   "metadata": {},
   "outputs": [],
   "source": [
    "model = make_model()\n",
    "model.load_weights(initial_weights)\n",
    "model.layers[-1].bias.assign([0.0])\n",
    "zero_bias_history = model.fit(\n",
    "    train_features,\n",
    "    train_labels,\n",
    "    batch_size=BATCH_SIZE,\n",
    "    epochs=20,\n",
    "    validation_data=(val_features, val_labels), \n",
    "    verbose=0)"
   ]
  },
  {
   "cell_type": "code",
   "execution_count": 61,
   "metadata": {},
   "outputs": [],
   "source": [
    "model = make_model()\n",
    "model.load_weights(initial_weights)\n",
    "careful_bias_history = model.fit(\n",
    "    train_features,\n",
    "    train_labels,\n",
    "    batch_size=BATCH_SIZE,\n",
    "    epochs=20,\n",
    "    validation_data=(val_features, val_labels), \n",
    "    verbose=0)"
   ]
  },
  {
   "cell_type": "code",
   "execution_count": 62,
   "metadata": {},
   "outputs": [],
   "source": [
    "def plot_loss(history, label, n):\n",
    "  # Use a log scale to show the wide range of values.\n",
    "    plt.semilogy(history.epoch,  history.history['loss'],\n",
    "               color=colors[n], label='Train '+label)\n",
    "    plt.semilogy(history.epoch,  history.history['val_loss'],\n",
    "          color=colors[n], label='Val '+label,\n",
    "          linestyle=\"--\")\n",
    "    plt.xlabel('Epoch')\n",
    "    plt.ylabel('Loss')\n",
    "  \n",
    "    plt.legend()"
   ]
  },
  {
   "cell_type": "code",
   "execution_count": 63,
   "metadata": {},
   "outputs": [
    {
     "data": {
      "image/png": "[encoded data removed]",
      "text/plain": [
       "<Figure size 864x720 with 1 Axes>"
      ]
     },
     "metadata": {
      "needs_background": "light"
     },
     "output_type": "display_data"
    }
   ],
   "source": [
    "plot_loss(zero_bias_history, \"Zero Bias\", 0)\n",
    "plot_loss(careful_bias_history, \"Careful Bias\", 1)"
   ]
  },
  {
   "cell_type": "code",
   "execution_count": 64,
   "metadata": {},
   "outputs": [
    {
     "name": "stdout",
     "output_type": "stream",
     "text": [
      "Train on 408373 samples, validate on 102094 samples\n",
      "Epoch 1/100\n",
      "408373/408373 [==============================] - 5s 12us/sample - loss: 0.3937 - tp: 454.0000 - fp: 3536.0000 - tn: 356125.0000 - fn: 48258.0000 - accuracy: 0.8732 - precision: 0.1138 - recall: 0.0093 - val_loss: 0.3648 - val_tp: 0.0000e+00 - val_fp: 0.0000e+00 - val_tn: 90038.0000 - val_fn: 12056.0000 - val_accuracy: 0.8819 - val_precision: 0.0000e+00 - val_recall: 0.0000e+00\n",
      "Epoch 2/100\n",
      "408373/408373 [==============================] - 2s 5us/sample - loss: 0.3676 - tp: 0.0000e+00 - fp: 0.0000e+00 - tn: 359661.0000 - fn: 48712.0000 - accuracy: 0.8807 - precision: 0.0000e+00 - recall: 0.0000e+00 - val_loss: 0.3628 - val_tp: 0.0000e+00 - val_fp: 0.0000e+00 - val_tn: 90038.0000 - val_fn: 12056.0000 - val_accuracy: 0.8819 - val_precision: 0.0000e+00 - val_recall: 0.0000e+00\n",
      "Epoch 3/100\n",
      "408373/408373 [==============================] - 2s 5us/sample - loss: 0.3645 - tp: 0.0000e+00 - fp: 0.0000e+00 - tn: 359661.0000 - fn: 48712.0000 - accuracy: 0.8807 - precision: 0.0000e+00 - recall: 0.0000e+00 - val_loss: 0.3610 - val_tp: 0.0000e+00 - val_fp: 0.0000e+00 - val_tn: 90038.0000 - val_fn: 12056.0000 - val_accuracy: 0.8819 - val_precision: 0.0000e+00 - val_recall: 0.0000e+00\n",
      "Epoch 4/100\n",
      "408373/408373 [==============================] - 2s 5us/sample - loss: 0.3635 - tp: 0.0000e+00 - fp: 0.0000e+00 - tn: 359661.0000 - fn: 48712.0000 - accuracy: 0.8807 - precision: 0.0000e+00 - recall: 0.0000e+00 - val_loss: 0.3604 - val_tp: 0.0000e+00 - val_fp: 0.0000e+00 - val_tn: 90038.0000 - val_fn: 12056.0000 - val_accuracy: 0.8819 - val_precision: 0.0000e+00 - val_recall: 0.0000e+00\n",
      "Epoch 5/100\n",
      "408373/408373 [==============================] - 2s 5us/sample - loss: 0.3630 - tp: 0.0000e+00 - fp: 0.0000e+00 - tn: 359661.0000 - fn: 48712.0000 - accuracy: 0.8807 - precision: 0.0000e+00 - recall: 0.0000e+00 - val_loss: 0.3597 - val_tp: 0.0000e+00 - val_fp: 0.0000e+00 - val_tn: 90038.0000 - val_fn: 12056.0000 - val_accuracy: 0.8819 - val_precision: 0.0000e+00 - val_recall: 0.0000e+00\n",
      "Epoch 6/100\n",
      "408373/408373 [==============================] - 2s 5us/sample - loss: 0.3624 - tp: 0.0000e+00 - fp: 0.0000e+00 - tn: 359661.0000 - fn: 48712.0000 - accuracy: 0.8807 - precision: 0.0000e+00 - recall: 0.0000e+00 - val_loss: 0.3591 - val_tp: 0.0000e+00 - val_fp: 0.0000e+00 - val_tn: 90038.0000 - val_fn: 12056.0000 - val_accuracy: 0.8819 - val_precision: 0.0000e+00 - val_recall: 0.0000e+00\n",
      "Epoch 7/100\n",
      "408373/408373 [==============================] - 2s 5us/sample - loss: 0.3618 - tp: 0.0000e+00 - fp: 0.0000e+00 - tn: 359661.0000 - fn: 48712.0000 - accuracy: 0.8807 - precision: 0.0000e+00 - recall: 0.0000e+00 - val_loss: 0.3584 - val_tp: 0.0000e+00 - val_fp: 0.0000e+00 - val_tn: 90038.0000 - val_fn: 12056.0000 - val_accuracy: 0.8819 - val_precision: 0.0000e+00 - val_recall: 0.0000e+00\n",
      "Epoch 8/100\n",
      "408373/408373 [==============================] - 2s 5us/sample - loss: 0.3613 - tp: 0.0000e+00 - fp: 0.0000e+00 - tn: 359661.0000 - fn: 48712.0000 - accuracy: 0.8807 - precision: 0.0000e+00 - recall: 0.0000e+00 - val_loss: 0.3577 - val_tp: 0.0000e+00 - val_fp: 0.0000e+00 - val_tn: 90038.0000 - val_fn: 12056.0000 - val_accuracy: 0.8819 - val_precision: 0.0000e+00 - val_recall: 0.0000e+00\n",
      "Epoch 9/100\n",
      "408373/408373 [==============================] - 2s 5us/sample - loss: 0.3608 - tp: 0.0000e+00 - fp: 0.0000e+00 - tn: 359661.0000 - fn: 48712.0000 - accuracy: 0.8807 - precision: 0.0000e+00 - recall: 0.0000e+00 - val_loss: 0.3570 - val_tp: 0.0000e+00 - val_fp: 0.0000e+00 - val_tn: 90038.0000 - val_fn: 12056.0000 - val_accuracy: 0.8819 - val_precision: 0.0000e+00 - val_recall: 0.0000e+00\n",
      "Epoch 10/100\n",
      "408373/408373 [==============================] - 2s 5us/sample - loss: 0.3602 - tp: 0.0000e+00 - fp: 0.0000e+00 - tn: 359661.0000 - fn: 48712.0000 - accuracy: 0.8807 - precision: 0.0000e+00 - recall: 0.0000e+00 - val_loss: 0.3563 - val_tp: 0.0000e+00 - val_fp: 0.0000e+00 - val_tn: 90038.0000 - val_fn: 12056.0000 - val_accuracy: 0.8819 - val_precision: 0.0000e+00 - val_recall: 0.0000e+00\n",
      "Epoch 11/100\n",
      "407552/408373 [============================>.] - ETA: 0s - loss: 0.3599 - tp: 0.0000e+00 - fp: 0.0000e+00 - tn: 358951.0000 - fn: 48601.0000 - accuracy: 0.8807 - precision: 0.0000e+00 - recall: 0.0000e+00 ETA: 0s - loss: 0.3599 - tp: 0.0000e+00 - fp: 0.0000e+00 - tn: 283206.0000 - fn: 38330.0000 - accuracy: 0.8808 - precision: 0.0000e+00 - recaRestoring model weights from the end of the best epoch.\n",
      "408373/408373 [==============================] - 3s 7us/sample - loss: 0.3599 - tp: 0.0000e+00 - fp: 0.0000e+00 - tn: 359661.0000 - fn: 48712.0000 - accuracy: 0.8807 - precision: 0.0000e+00 - recall: 0.0000e+00 - val_loss: 0.3559 - val_tp: 0.0000e+00 - val_fp: 0.0000e+00 - val_tn: 90038.0000 - val_fn: 12056.0000 - val_accuracy: 0.8819 - val_precision: 0.0000e+00 - val_recall: 0.0000e+00\n",
      "Epoch 00011: early stopping\n"
     ]
    }
   ],
   "source": [
    "model = make_model()\n",
    "model.load_weights(initial_weights)\n",
    "baseline_history = model.fit(\n",
    "    train_features,\n",
    "    train_labels,\n",
    "    batch_size=BATCH_SIZE,\n",
    "    epochs=EPOCHS,\n",
    "    callbacks = [early_stopping],\n",
    "    validation_data=(val_features, val_labels))"
   ]
  },
  {
   "cell_type": "code",
   "execution_count": 65,
   "metadata": {},
   "outputs": [],
   "source": [
    "def plot_metrics(history):\n",
    "    metrics =  ['loss', 'auc', 'precision', 'recall']\n",
    "    for n, metric in enumerate(metrics):\n",
    "        name = metric.replace(\"_\",\" \").capitalize()\n",
    "        plt.subplot(2,2,n+1)\n",
    "        plt.plot(history.epoch,  history.history[metric], color=colors[0], label='Train')\n",
    "        plt.plot(history.epoch, history.history['val_'+metric],\n",
    "             color=colors[0], linestyle=\"--\", label='Val')\n",
    "        plt.xlabel('Epoch')\n",
    "        plt.ylabel(name)\n",
    "    if metric == 'loss':\n",
    "        plt.ylim([0, plt.ylim()[1]])\n",
    "    elif metric == 'auc':\n",
    "        plt.ylim([0.8,1])\n",
    "    else:\n",
    "        plt.ylim([0,1])\n",
    "\n",
    "    plt.legend()\n"
   ]
  },
  {
   "cell_type": "code",
   "execution_count": 66,
   "metadata": {},
   "outputs": [
    {
     "ename": "KeyError",
     "evalue": "'auc'",
     "output_type": "error",
     "traceback": [
      "\u001b[0;31m---------------------------------------------------------------------------\u001b[0m",
      "\u001b[0;31mKeyError\u001b[0m                                  Traceback (most recent call last)",
      "\u001b[0;32m<ipython-input-66-3e1192bd3ccd>\u001b[0m in \u001b[0;36m<module>\u001b[0;34m\u001b[0m\n\u001b[0;32m----> 1\u001b[0;31m \u001b[0mplot_metrics\u001b[0m\u001b[0;34m(\u001b[0m\u001b[0mbaseline_history\u001b[0m\u001b[0;34m)\u001b[0m\u001b[0;34m\u001b[0m\u001b[0m\n\u001b[0m",
      "\u001b[0;32m<ipython-input-65-181e0597a02b>\u001b[0m in \u001b[0;36mplot_metrics\u001b[0;34m(history)\u001b[0m\n\u001b[1;32m      4\u001b[0m         \u001b[0mname\u001b[0m \u001b[0;34m=\u001b[0m \u001b[0mmetric\u001b[0m\u001b[0;34m.\u001b[0m\u001b[0mreplace\u001b[0m\u001b[0;34m(\u001b[0m\u001b[0;34m\"_\"\u001b[0m\u001b[0;34m,\u001b[0m\u001b[0;34m\" \"\u001b[0m\u001b[0;34m)\u001b[0m\u001b[0;34m.\u001b[0m\u001b[0mcapitalize\u001b[0m\u001b[0;34m(\u001b[0m\u001b[0;34m)\u001b[0m\u001b[0;34m\u001b[0m\u001b[0m\n\u001b[1;32m      5\u001b[0m         \u001b[0mplt\u001b[0m\u001b[0;34m.\u001b[0m\u001b[0msubplot\u001b[0m\u001b[0;34m(\u001b[0m\u001b[0;36m2\u001b[0m\u001b[0;34m,\u001b[0m\u001b[0;36m2\u001b[0m\u001b[0;34m,\u001b[0m\u001b[0mn\u001b[0m\u001b[0;34m+\u001b[0m\u001b[0;36m1\u001b[0m\u001b[0;34m)\u001b[0m\u001b[0;34m\u001b[0m\u001b[0m\n\u001b[0;32m----> 6\u001b[0;31m         \u001b[0mplt\u001b[0m\u001b[0;34m.\u001b[0m\u001b[0mplot\u001b[0m\u001b[0;34m(\u001b[0m\u001b[0mhistory\u001b[0m\u001b[0;34m.\u001b[0m\u001b[0mepoch\u001b[0m\u001b[0;34m,\u001b[0m  \u001b[0mhistory\u001b[0m\u001b[0;34m.\u001b[0m\u001b[0mhistory\u001b[0m\u001b[0;34m[\u001b[0m\u001b[0mmetric\u001b[0m\u001b[0;34m]\u001b[0m\u001b[0;34m,\u001b[0m \u001b[0mcolor\u001b[0m\u001b[0;34m=\u001b[0m\u001b[0mcolors\u001b[0m\u001b[0;34m[\u001b[0m\u001b[0;36m0\u001b[0m\u001b[0;34m]\u001b[0m\u001b[0;34m,\u001b[0m \u001b[0mlabel\u001b[0m\u001b[0;34m=\u001b[0m\u001b[0;34m'Train'\u001b[0m\u001b[0;34m)\u001b[0m\u001b[0;34m\u001b[0m\u001b[0m\n\u001b[0m\u001b[1;32m      7\u001b[0m         plt.plot(history.epoch, history.history['val_'+metric],\n\u001b[1;32m      8\u001b[0m              color=colors[0], linestyle=\"--\", label='Val')\n",
      "\u001b[0;31mKeyError\u001b[0m: 'auc'"
     ]
    },
    {
     "data": {
      "image/png": "[encoded data removed]",
      "text/plain": [
       "<Figure size 864x720 with 2 Axes>"
      ]
     },
     "metadata": {
      "needs_background": "light"
     },
     "output_type": "display_data"
    }
   ],
   "source": [
    "plot_metrics(baseline_history)"
   ]
  },
  {
   "cell_type": "code",
   "execution_count": 67,
   "metadata": {},
   "outputs": [],
   "source": [
    "train_predictions_baseline = model.predict(train_features, batch_size=BATCH_SIZE)\n",
    "test_predictions_baseline = model.predict(test_features, batch_size=BATCH_SIZE)"
   ]
  },
  {
   "cell_type": "code",
   "execution_count": 68,
   "metadata": {},
   "outputs": [],
   "source": [
    "def plot_cm(labels, predictions, p=0.5):\n",
    "    cm = confusion_matrix(labels, predictions > p)\n",
    "    plt.figure(figsize=(5,5))\n",
    "    sns.heatmap(cm, annot=True, fmt=\"d\")\n",
    "    plt.title('Confusion matrix @{:.2f}'.format(p))\n",
    "    plt.ylabel('Actual label')\n",
    "    plt.xlabel('Predicted label')\n",
    "\n",
    "    print('Legitimate Transactions Detected (True Negatives): ', cm[0][0])\n",
    "    print('Legitimate Transactions Incorrectly Detected (False Positives): ', cm[0][1])\n",
    "    print('Fraudulent Transactions Missed (False Negatives): ', cm[1][0])\n",
    "    print('Fraudulent Transactions Detected (True Positives): ', cm[1][1])\n",
    "    print('Total Fraudulent Transactions: ', np.sum(cm[1]))"
   ]
  },
  {
   "cell_type": "code",
   "execution_count": 69,
   "metadata": {},
   "outputs": [
    {
     "name": "stdout",
     "output_type": "stream",
     "text": [
      "loss :  0.43825613775703065\n",
      "tp :  0.0\n",
      "fp :  0.0\n",
      "tn :  169096.0\n",
      "fn :  30896.0\n",
      "accuracy :  0.8455138\n",
      "precision :  0.0\n",
      "recall :  0.0\n",
      "\n",
      "Legitimate Transactions Detected (True Negatives):  169096\n",
      "Legitimate Transactions Incorrectly Detected (False Positives):  0\n",
      "Fraudulent Transactions Missed (False Negatives):  30896\n",
      "Fraudulent Transactions Detected (True Positives):  0\n",
      "Total Fraudulent Transactions:  30896\n"
     ]
    },
    {
     "data": {
      "image/png": "[encoded data removed]",
      "text/plain": [
       "<Figure size 360x360 with 2 Axes>"
      ]
     },
     "metadata": {
      "needs_background": "light"
     },
     "output_type": "display_data"
    }
   ],
   "source": [
    "baseline_results = model.evaluate(test_features, test_labels,\n",
    "                                  batch_size=BATCH_SIZE, verbose=0)\n",
    "for name, value in zip(model.metrics_names, baseline_results):\n",
    "    print(name, ': ', value)\n",
    "print()\n",
    "\n",
    "plot_cm(test_labels, test_predictions_baseline)"
   ]
  },
  {
   "cell_type": "code",
   "execution_count": null,
   "metadata": {},
   "outputs": [],
   "source": []
  }
 ],
 "metadata": {
  "kernelspec": {
   "display_name": "Python 3",
   "language": "python",
   "name": "python3"
  },
  "language_info": {
   "codemirror_mode": {
    "name": "ipython",
    "version": 3
   },
   "file_extension": ".py",
   "mimetype": "text/x-python",
   "name": "python",
   "nbconvert_exporter": "python",
   "pygments_lexer": "ipython3",
   "version": "3.7.0"
  }
 },
 "nbformat": 4,
 "nbformat_minor": 2
}
