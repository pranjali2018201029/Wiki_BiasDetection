{
 "cells": [
  {
   "cell_type": "code",
   "execution_count": 1,
   "metadata": {},
   "outputs": [],
   "source": [
    "import pandas as pd\n",
    "import numpy as np\n",
    "import pickle\n",
    "from sklearn.linear_model import LogisticRegression\n",
    "from sklearn import metrics"
   ]
  },
  {
   "cell_type": "code",
   "execution_count": 2,
   "metadata": {},
   "outputs": [],
   "source": [
    "train = pd.read_csv(\"train_emb.csv\")\n",
    "test = pd.read_csv(\"test_emb.csv\")"
   ]
  },
  {
   "cell_type": "code",
   "execution_count": 3,
   "metadata": {},
   "outputs": [],
   "source": [
    "def get_embeddings(emb):\n",
    "    embedding = list()\n",
    "    for e in emb:\n",
    "        e = e.split(',')\n",
    "        e[0] = e[0][1:]\n",
    "        e[99] = e[99][:-1]\n",
    "        e = np.array(e).astype(np.float)\n",
    "        embedding.append(e)\n",
    "    return embedding"
   ]
  },
  {
   "cell_type": "code",
   "execution_count": 4,
   "metadata": {},
   "outputs": [],
   "source": [
    "x_train = np.array(get_embeddings(train['embedding']))\n",
    "y_train = train['label']\n",
    "x_test = np.array(get_embeddings(test['embedding']))\n",
    "y_test = test['label']"
   ]
  },
  {
   "cell_type": "code",
   "execution_count": 5,
   "metadata": {},
   "outputs": [
    {
     "name": "stdout",
     "output_type": "stream",
     "text": [
      "Train X:  (234311, 100)  Train Y:  (234311,)\n",
      "Test X:  (58579, 100)  Test Y:  (58579,)\n"
     ]
    }
   ],
   "source": [
    "print(\"Train X: \",x_train.shape, \" Train Y: \",y_train.shape)\n",
    "print(\"Test X: \",x_test.shape, \" Test Y: \",y_test.shape)"
   ]
  },
  {
   "cell_type": "code",
   "execution_count": 6,
   "metadata": {},
   "outputs": [],
   "source": [
    "def train_LR():\n",
    "    filename = \"LR_Task1_TrainedModel.pkl\"\n",
    "    logisticRegr = LogisticRegression()\n",
    "    logisticRegr.fit(x_train, y_train)\n",
    "    with open(filename,'wb') as f:\n",
    "        pickle.dump(logisticRegr, f)"
   ]
  },
  {
   "cell_type": "code",
   "execution_count": 7,
   "metadata": {},
   "outputs": [],
   "source": [
    "def test_LR():\n",
    "    with open('LR_Task1_TrainedModel.pkl', 'rb') as f:\n",
    "        logisticRegr = pickle.load(f)\n",
    "    predictions = logisticRegr.predict(x_test)\n",
    "    score = logisticRegr.score(x_test, y_test)\n",
    "    print(\"Accuracy :\",score*100, ' %')\n",
    "    cm = metrics.confusion_matrix(y_test, predictions)\n",
    "    print(\"========= CONFUSION MATRIX =========\")\n",
    "    print(cm)\n",
    "    print(\"================ CLASSIFICATION REPORT ===============\")\n",
    "    classes=['Objective/0','Subjective/1']\n",
    "    print(metrics.classification_report(y_test, predictions,target_names=classes))"
   ]
  },
  {
   "cell_type": "code",
   "execution_count": 8,
   "metadata": {},
   "outputs": [
    {
     "name": "stderr",
     "output_type": "stream",
     "text": [
      "/home/shreya/.local/lib/python3.6/site-packages/sklearn/linear_model/logistic.py:433: FutureWarning: Default solver will be changed to 'lbfgs' in 0.22. Specify a solver to silence this warning.\n",
      "  FutureWarning)\n"
     ]
    }
   ],
   "source": [
    "train_LR()"
   ]
  },
  {
   "cell_type": "code",
   "execution_count": 9,
   "metadata": {},
   "outputs": [
    {
     "name": "stdout",
     "output_type": "stream",
     "text": [
      "Accuracy : 66.97792724355143  %\n",
      "========= CONFUSION MATRIX =========\n",
      "[[ 4332 16639]\n",
      " [ 2705 34903]]\n",
      "================ CLASSIFICATION REPORT ===============\n",
      "              precision    recall  f1-score   support\n",
      "\n",
      " Objective/0       0.62      0.21      0.31     20971\n",
      "Subjective/1       0.68      0.93      0.78     37608\n",
      "\n",
      "   micro avg       0.67      0.67      0.67     58579\n",
      "   macro avg       0.65      0.57      0.55     58579\n",
      "weighted avg       0.66      0.67      0.61     58579\n",
      "\n"
     ]
    }
   ],
   "source": [
    "test_LR()"
   ]
  },
  {
   "cell_type": "code",
   "execution_count": 10,
   "metadata": {},
   "outputs": [],
   "source": [
    "def predict_LR(sent_embedding):\n",
    "    embedding = np.array(get_embedding(sent_embedding))\n",
    "    with open('LR_Task1_TrainedModel.pkl', 'rb') as f:\n",
    "        logisticRegr = pickle.load(f)\n",
    "    predicted_class = logisticRegr.predict(embedding)\n",
    "    print(\"Sentence Class is : \", predicted_class)"
   ]
  }
 ],
 "metadata": {
  "kernelspec": {
   "display_name": "Python 3",
   "language": "python",
   "name": "python3"
  },
  "language_info": {
   "codemirror_mode": {
    "name": "ipython",
    "version": 3
   },
   "file_extension": ".py",
   "mimetype": "text/x-python",
   "name": "python",
   "nbconvert_exporter": "python",
   "pygments_lexer": "ipython3",
   "version": "3.6.9"
  }
 },
 "nbformat": 4,
 "nbformat_minor": 2
}
